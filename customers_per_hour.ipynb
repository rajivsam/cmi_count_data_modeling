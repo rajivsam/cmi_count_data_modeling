{
  "nbformat": 4,
  "nbformat_minor": 0,
  "metadata": {
    "colab": {
      "name": "customers_per_hour.ipynb",
      "provenance": [],
      "collapsed_sections": [],
      "authorship_tag": "ABX9TyP48mocKlprdypj1tTv+Oje",
      "include_colab_link": true
    },
    "kernelspec": {
      "name": "python3",
      "display_name": "Python 3"
    },
    "language_info": {
      "name": "python"
    }
  },
  "cells": [
    {
      "cell_type": "markdown",
      "metadata": {
        "id": "view-in-github",
        "colab_type": "text"
      },
      "source": [
        "<a href=\"https://colab.research.google.com/github/rajivsam/cmi_count_data_modeling/blob/asif_ikbal_21_07_2021/customers_per_hour.ipynb\" target=\"_parent\"><img src=\"https://colab.research.google.com/assets/colab-badge.svg\" alt=\"Open In Colab\"/></a>"
      ]
    },
    {
      "cell_type": "code",
      "metadata": {
        "id": "XBBPyzzrUtaj"
      },
      "source": [
        "import pandas as pd\n",
        "import numpy as np"
      ],
      "execution_count": 64,
      "outputs": []
    },
    {
      "cell_type": "code",
      "metadata": {
        "id": "baLJDqLIVS4l"
      },
      "source": [
        "## Loading the data\n",
        "path='https://archive.ics.uci.edu/ml/machine-learning-databases/00352/Online%20Retail.xlsx'\n",
        "data=pd.read_excel(path)"
      ],
      "execution_count": 65,
      "outputs": []
    },
    {
      "cell_type": "code",
      "metadata": {
        "id": "N9GN5bT9WHXw"
      },
      "source": [
        "## CustomerID is loaded as float. Changing it to int\n",
        "data['CustomerID'] = data['CustomerID'].apply(lambda x: int(x) if x == x else \"\")"
      ],
      "execution_count": 66,
      "outputs": []
    },
    {
      "cell_type": "code",
      "metadata": {
        "id": "2NCEq3xgUv0u"
      },
      "source": [
        "## Creating Date and Hour columns from the timestamp InvoiceDate\n",
        "## Here Hour is the truncated time of the day. if the time is hh:mm:ss, Hour is hh only.\n",
        "data['Date']=[d.date() for d in data['InvoiceDate']]\n",
        "data['Hour']=[d.hour for d in data['InvoiceDate']]"
      ],
      "execution_count": 67,
      "outputs": []
    },
    {
      "cell_type": "code",
      "metadata": {
        "id": "w2tpfCb8VoSI"
      },
      "source": [
        "#data.head(10)"
      ],
      "execution_count": 68,
      "outputs": []
    },
    {
      "cell_type": "code",
      "metadata": {
        "id": "4XiBnDfNVhUD"
      },
      "source": [
        "## Columns of our interest\n",
        "dateTimeData=data[['CustomerID','Date','Hour']]"
      ],
      "execution_count": 69,
      "outputs": []
    },
    {
      "cell_type": "code",
      "metadata": {
        "id": "ePDNn39JbQU-"
      },
      "source": [
        "## Counting number of customers in a particular Date and Hour\n",
        "table=dateTimeData.groupby(['Date','Hour']).agg({\"CustomerID\": \"nunique\"})"
      ],
      "execution_count": 70,
      "outputs": []
    },
    {
      "cell_type": "code",
      "metadata": {
        "id": "WvELGFtOcvSF"
      },
      "source": [
        "## Converting grouped object to DataFrame\n",
        "tab2=pd.DataFrame(table.reset_index())"
      ],
      "execution_count": 71,
      "outputs": []
    },
    {
      "cell_type": "code",
      "metadata": {
        "id": "o14NzA1TfEt8"
      },
      "source": [
        "#tab2.head()"
      ],
      "execution_count": 72,
      "outputs": []
    },
    {
      "cell_type": "code",
      "metadata": {
        "id": "15uWGOggep2G"
      },
      "source": [
        "## Creating the required DataFrame with columns Date, Count1, Count2,...Count24.\n",
        "## Counti represents the time between hour i-1(inclusive) and i(exclusive)\n",
        "colNames=['Date']\n",
        "colNames.extend(['Count'+str(k+1) for k in range(24)])\n",
        "newDf=pd.DataFrame(columns=colNames)\n",
        "for date in set(tab2['Date']):\n",
        "  tab3=tab2[tab2['Date']==date][['Hour','CustomerID']]\n",
        "  newRow=[date]\n",
        "  newRow.extend([0 for k in range(24)])\n",
        "  for hr in tab3['Hour']:\n",
        "    newRow[int(hr)+1]=int(tab3[tab3['Hour']==hr]['CustomerID'])\n",
        "  #print(pd.DataFrame([newRow],columns=colNames))\n",
        "  newDf=newDf.append(pd.DataFrame([newRow],columns=colNames),ignore_index=True)\n"
      ],
      "execution_count": 73,
      "outputs": []
    },
    {
      "cell_type": "code",
      "metadata": {
        "id": "xXjzV5fifiYi"
      },
      "source": [
        "newDf=newDf.sort_values(by=['Date']).reset_index()"
      ],
      "execution_count": 74,
      "outputs": []
    },
    {
      "cell_type": "code",
      "metadata": {
        "id": "82peF0KQf9oE"
      },
      "source": [
        "newDf=newDf.drop('index',axis=1)"
      ],
      "execution_count": 75,
      "outputs": []
    },
    {
      "cell_type": "code",
      "metadata": {
        "id": "gIUePXukliM4"
      },
      "source": [
        "newDf.to_csv('customers_per_hour.csv')"
      ],
      "execution_count": 76,
      "outputs": []
    }
  ]
}