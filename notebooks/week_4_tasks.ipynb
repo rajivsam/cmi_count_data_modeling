{
  "nbformat": 4,
  "nbformat_minor": 0,
  "metadata": {
    "colab": {
      "name": "week_4_tasks.ipynb",
      "provenance": [],
      "authorship_tag": "ABX9TyMBmohJqG/zAMVWYTro+6Cf",
      "include_colab_link": true
    },
    "kernelspec": {
      "name": "python3",
      "display_name": "Python 3"
    },
    "language_info": {
      "name": "python"
    }
  },
  "cells": [
    {
      "cell_type": "markdown",
      "metadata": {
        "id": "view-in-github",
        "colab_type": "text"
      },
      "source": [
        "<a href=\"https://colab.research.google.com/github/rajivsam/cmi_count_data_modeling/blob/asif_ikbal_09_08_2021/notebooks/week_4_tasks.ipynb\" target=\"_parent\"><img src=\"https://colab.research.google.com/assets/colab-badge.svg\" alt=\"Open In Colab\"/></a>"
      ]
    },
    {
      "cell_type": "markdown",
      "metadata": {
        "id": "LjcjsLJewja4"
      },
      "source": [
        "From Week 3 heatmaps- https://github.com/rajivsam/cmi_count_data_modeling/blob/asif_ikbal_09_08_2021/notebooks/week_3_tasks.ipynb :\n",
        "\n",
        "Longest sequence of continuously available data for different quarters are-\n",
        "\n",
        "Quarter-1: 76\n",
        "\n",
        "Quarter-2: 28\n",
        "\n",
        "Quarter-3: 49\n",
        "\n",
        "Quarter-4: 60\n"
      ]
    },
    {
      "cell_type": "code",
      "metadata": {
        "id": "JRHhYjpCY6vU"
      },
      "source": [
        "import pandas as pd"
      ],
      "execution_count": 142,
      "outputs": []
    },
    {
      "cell_type": "code",
      "metadata": {
        "id": "-cEzPokWaqp-"
      },
      "source": [
        "data = pd.read_csv('https://raw.githubusercontent.com/rajivsam/cmi_count_data_modeling/asif_ikbal_09_08_2021/customers_per_hour.csv',index_col='Date')"
      ],
      "execution_count": 143,
      "outputs": []
    },
    {
      "cell_type": "code",
      "metadata": {
        "id": "mqWrafhQay7s"
      },
      "source": [
        "data.drop(columns=['Count1','Count2','Count3','Count4','Count5','Count6','Count21','Count22','Count23','Count24'],inplace=True)"
      ],
      "execution_count": 144,
      "outputs": []
    },
    {
      "cell_type": "code",
      "metadata": {
        "colab": {
          "base_uri": "https://localhost:8080/",
          "height": 455
        },
        "id": "Cmy-0L53bRpK",
        "outputId": "cbab357b-a6d4-4a64-eb8a-702c52028f28"
      },
      "source": [
        "data"
      ],
      "execution_count": 145,
      "outputs": [
        {
          "output_type": "execute_result",
          "data": {
            "text/html": [
              "<div>\n",
              "<style scoped>\n",
              "    .dataframe tbody tr th:only-of-type {\n",
              "        vertical-align: middle;\n",
              "    }\n",
              "\n",
              "    .dataframe tbody tr th {\n",
              "        vertical-align: top;\n",
              "    }\n",
              "\n",
              "    .dataframe thead th {\n",
              "        text-align: right;\n",
              "    }\n",
              "</style>\n",
              "<table border=\"1\" class=\"dataframe\">\n",
              "  <thead>\n",
              "    <tr style=\"text-align: right;\">\n",
              "      <th></th>\n",
              "      <th>Count7</th>\n",
              "      <th>Count8</th>\n",
              "      <th>Count9</th>\n",
              "      <th>Count10</th>\n",
              "      <th>Count11</th>\n",
              "      <th>Count12</th>\n",
              "      <th>Count13</th>\n",
              "      <th>Count14</th>\n",
              "      <th>Count15</th>\n",
              "      <th>Count16</th>\n",
              "      <th>Count17</th>\n",
              "      <th>Count18</th>\n",
              "      <th>Count19</th>\n",
              "      <th>Count20</th>\n",
              "    </tr>\n",
              "    <tr>\n",
              "      <th>Date</th>\n",
              "      <th></th>\n",
              "      <th></th>\n",
              "      <th></th>\n",
              "      <th></th>\n",
              "      <th></th>\n",
              "      <th></th>\n",
              "      <th></th>\n",
              "      <th></th>\n",
              "      <th></th>\n",
              "      <th></th>\n",
              "      <th></th>\n",
              "      <th></th>\n",
              "      <th></th>\n",
              "      <th></th>\n",
              "    </tr>\n",
              "  </thead>\n",
              "  <tbody>\n",
              "    <tr>\n",
              "      <th>2010-12-01</th>\n",
              "      <td>0</td>\n",
              "      <td>0</td>\n",
              "      <td>3</td>\n",
              "      <td>12</td>\n",
              "      <td>9</td>\n",
              "      <td>11</td>\n",
              "      <td>20</td>\n",
              "      <td>12</td>\n",
              "      <td>7</td>\n",
              "      <td>11</td>\n",
              "      <td>9</td>\n",
              "      <td>4</td>\n",
              "      <td>0</td>\n",
              "      <td>0</td>\n",
              "    </tr>\n",
              "    <tr>\n",
              "      <th>2010-12-02</th>\n",
              "      <td>0</td>\n",
              "      <td>2</td>\n",
              "      <td>3</td>\n",
              "      <td>5</td>\n",
              "      <td>10</td>\n",
              "      <td>9</td>\n",
              "      <td>14</td>\n",
              "      <td>11</td>\n",
              "      <td>7</td>\n",
              "      <td>13</td>\n",
              "      <td>10</td>\n",
              "      <td>9</td>\n",
              "      <td>9</td>\n",
              "      <td>2</td>\n",
              "    </tr>\n",
              "    <tr>\n",
              "      <th>2010-12-03</th>\n",
              "      <td>0</td>\n",
              "      <td>0</td>\n",
              "      <td>0</td>\n",
              "      <td>5</td>\n",
              "      <td>6</td>\n",
              "      <td>4</td>\n",
              "      <td>9</td>\n",
              "      <td>6</td>\n",
              "      <td>9</td>\n",
              "      <td>6</td>\n",
              "      <td>3</td>\n",
              "      <td>2</td>\n",
              "      <td>0</td>\n",
              "      <td>0</td>\n",
              "    </tr>\n",
              "    <tr>\n",
              "      <th>2010-12-05</th>\n",
              "      <td>0</td>\n",
              "      <td>0</td>\n",
              "      <td>0</td>\n",
              "      <td>0</td>\n",
              "      <td>8</td>\n",
              "      <td>13</td>\n",
              "      <td>17</td>\n",
              "      <td>16</td>\n",
              "      <td>7</td>\n",
              "      <td>14</td>\n",
              "      <td>4</td>\n",
              "      <td>0</td>\n",
              "      <td>0</td>\n",
              "      <td>0</td>\n",
              "    </tr>\n",
              "    <tr>\n",
              "      <th>2010-12-06</th>\n",
              "      <td>0</td>\n",
              "      <td>0</td>\n",
              "      <td>2</td>\n",
              "      <td>4</td>\n",
              "      <td>11</td>\n",
              "      <td>12</td>\n",
              "      <td>19</td>\n",
              "      <td>13</td>\n",
              "      <td>8</td>\n",
              "      <td>12</td>\n",
              "      <td>2</td>\n",
              "      <td>2</td>\n",
              "      <td>0</td>\n",
              "      <td>0</td>\n",
              "    </tr>\n",
              "    <tr>\n",
              "      <th>...</th>\n",
              "      <td>...</td>\n",
              "      <td>...</td>\n",
              "      <td>...</td>\n",
              "      <td>...</td>\n",
              "      <td>...</td>\n",
              "      <td>...</td>\n",
              "      <td>...</td>\n",
              "      <td>...</td>\n",
              "      <td>...</td>\n",
              "      <td>...</td>\n",
              "      <td>...</td>\n",
              "      <td>...</td>\n",
              "      <td>...</td>\n",
              "      <td>...</td>\n",
              "    </tr>\n",
              "    <tr>\n",
              "      <th>2011-12-05</th>\n",
              "      <td>0</td>\n",
              "      <td>0</td>\n",
              "      <td>3</td>\n",
              "      <td>5</td>\n",
              "      <td>9</td>\n",
              "      <td>9</td>\n",
              "      <td>18</td>\n",
              "      <td>16</td>\n",
              "      <td>16</td>\n",
              "      <td>11</td>\n",
              "      <td>15</td>\n",
              "      <td>6</td>\n",
              "      <td>0</td>\n",
              "      <td>0</td>\n",
              "    </tr>\n",
              "    <tr>\n",
              "      <th>2011-12-06</th>\n",
              "      <td>0</td>\n",
              "      <td>0</td>\n",
              "      <td>4</td>\n",
              "      <td>6</td>\n",
              "      <td>9</td>\n",
              "      <td>17</td>\n",
              "      <td>25</td>\n",
              "      <td>10</td>\n",
              "      <td>14</td>\n",
              "      <td>8</td>\n",
              "      <td>6</td>\n",
              "      <td>6</td>\n",
              "      <td>0</td>\n",
              "      <td>0</td>\n",
              "    </tr>\n",
              "    <tr>\n",
              "      <th>2011-12-07</th>\n",
              "      <td>0</td>\n",
              "      <td>0</td>\n",
              "      <td>7</td>\n",
              "      <td>7</td>\n",
              "      <td>8</td>\n",
              "      <td>12</td>\n",
              "      <td>20</td>\n",
              "      <td>12</td>\n",
              "      <td>9</td>\n",
              "      <td>11</td>\n",
              "      <td>5</td>\n",
              "      <td>4</td>\n",
              "      <td>0</td>\n",
              "      <td>0</td>\n",
              "    </tr>\n",
              "    <tr>\n",
              "      <th>2011-12-08</th>\n",
              "      <td>0</td>\n",
              "      <td>0</td>\n",
              "      <td>1</td>\n",
              "      <td>9</td>\n",
              "      <td>7</td>\n",
              "      <td>12</td>\n",
              "      <td>19</td>\n",
              "      <td>14</td>\n",
              "      <td>7</td>\n",
              "      <td>14</td>\n",
              "      <td>6</td>\n",
              "      <td>5</td>\n",
              "      <td>7</td>\n",
              "      <td>5</td>\n",
              "    </tr>\n",
              "    <tr>\n",
              "      <th>2011-12-09</th>\n",
              "      <td>0</td>\n",
              "      <td>0</td>\n",
              "      <td>4</td>\n",
              "      <td>9</td>\n",
              "      <td>8</td>\n",
              "      <td>6</td>\n",
              "      <td>10</td>\n",
              "      <td>0</td>\n",
              "      <td>0</td>\n",
              "      <td>0</td>\n",
              "      <td>0</td>\n",
              "      <td>0</td>\n",
              "      <td>0</td>\n",
              "      <td>0</td>\n",
              "    </tr>\n",
              "  </tbody>\n",
              "</table>\n",
              "<p>305 rows × 14 columns</p>\n",
              "</div>"
            ],
            "text/plain": [
              "            Count7  Count8  Count9  Count10  ...  Count17  Count18  Count19  Count20\n",
              "Date                                         ...                                    \n",
              "2010-12-01       0       0       3       12  ...        9        4        0        0\n",
              "2010-12-02       0       2       3        5  ...       10        9        9        2\n",
              "2010-12-03       0       0       0        5  ...        3        2        0        0\n",
              "2010-12-05       0       0       0        0  ...        4        0        0        0\n",
              "2010-12-06       0       0       2        4  ...        2        2        0        0\n",
              "...            ...     ...     ...      ...  ...      ...      ...      ...      ...\n",
              "2011-12-05       0       0       3        5  ...       15        6        0        0\n",
              "2011-12-06       0       0       4        6  ...        6        6        0        0\n",
              "2011-12-07       0       0       7        7  ...        5        4        0        0\n",
              "2011-12-08       0       0       1        9  ...        6        5        7        5\n",
              "2011-12-09       0       0       4        9  ...        0        0        0        0\n",
              "\n",
              "[305 rows x 14 columns]"
            ]
          },
          "metadata": {
            "tags": []
          },
          "execution_count": 145
        }
      ]
    },
    {
      "cell_type": "code",
      "metadata": {
        "id": "TBCF7dsyZOJl"
      },
      "source": [
        "data.columns=[str(i)+':00:00' for i in range(6,20)]"
      ],
      "execution_count": 146,
      "outputs": []
    },
    {
      "cell_type": "code",
      "metadata": {
        "id": "Hc5vrdd0cVAa"
      },
      "source": [
        "ts_data=pd.DataFrame(data.stack()).reset_index()"
      ],
      "execution_count": 147,
      "outputs": []
    },
    {
      "cell_type": "code",
      "metadata": {
        "id": "L1fmHMngaoKj"
      },
      "source": [
        "ts_data['dt_index']=ts_data['Date']+' '+ts_data['level_1']"
      ],
      "execution_count": 148,
      "outputs": []
    },
    {
      "cell_type": "code",
      "metadata": {
        "id": "Z3H_OkyYb84p"
      },
      "source": [
        ""
      ],
      "execution_count": 148,
      "outputs": []
    },
    {
      "cell_type": "code",
      "metadata": {
        "id": "YSX51pRXa8YV"
      },
      "source": [
        "ts_data.drop(columns=['Date','level_1'],inplace=True)\n"
      ],
      "execution_count": 149,
      "outputs": []
    },
    {
      "cell_type": "code",
      "metadata": {
        "id": "kiFBe9mJcGl0"
      },
      "source": [
        "ts_data['dt_index']=pd.DatetimeIndex(ts_data['dt_index'])"
      ],
      "execution_count": 150,
      "outputs": []
    },
    {
      "cell_type": "code",
      "metadata": {
        "id": "dGotUDe-cW5V"
      },
      "source": [
        "ts_data.set_index('dt_index',inplace=True)"
      ],
      "execution_count": 151,
      "outputs": []
    },
    {
      "cell_type": "code",
      "metadata": {
        "id": "wvogp8h1eiWJ"
      },
      "source": [
        "ts_data.columns=['customer_arr']"
      ],
      "execution_count": 152,
      "outputs": []
    },
    {
      "cell_type": "code",
      "metadata": {
        "id": "soUZZVkHcm1t"
      },
      "source": [
        "Q1=ts_data.loc[ts_data.index.isocalendar().week<=13]\n",
        "Q2=ts_data.loc[(ts_data.index.isocalendar().week>13) & (ts_data.index.isocalendar().week<=26)]\n",
        "Q3=ts_data.loc[(ts_data.index.isocalendar().week>26) & (ts_data.index.isocalendar().week<=39)]\n",
        "Q4=ts_data.loc[ts_data.index.isocalendar().week>39]"
      ],
      "execution_count": 153,
      "outputs": []
    },
    {
      "cell_type": "code",
      "metadata": {
        "colab": {
          "base_uri": "https://localhost:8080/",
          "height": 238
        },
        "id": "3cBQe7PUeaiK",
        "outputId": "1210046d-5b98-45e6-ffcb-085c72dd1a4d"
      },
      "source": [
        "Q1.head()"
      ],
      "execution_count": 154,
      "outputs": [
        {
          "output_type": "execute_result",
          "data": {
            "text/html": [
              "<div>\n",
              "<style scoped>\n",
              "    .dataframe tbody tr th:only-of-type {\n",
              "        vertical-align: middle;\n",
              "    }\n",
              "\n",
              "    .dataframe tbody tr th {\n",
              "        vertical-align: top;\n",
              "    }\n",
              "\n",
              "    .dataframe thead th {\n",
              "        text-align: right;\n",
              "    }\n",
              "</style>\n",
              "<table border=\"1\" class=\"dataframe\">\n",
              "  <thead>\n",
              "    <tr style=\"text-align: right;\">\n",
              "      <th></th>\n",
              "      <th>customer_arr</th>\n",
              "    </tr>\n",
              "    <tr>\n",
              "      <th>dt_index</th>\n",
              "      <th></th>\n",
              "    </tr>\n",
              "  </thead>\n",
              "  <tbody>\n",
              "    <tr>\n",
              "      <th>2011-01-04 06:00:00</th>\n",
              "      <td>0</td>\n",
              "    </tr>\n",
              "    <tr>\n",
              "      <th>2011-01-04 07:00:00</th>\n",
              "      <td>0</td>\n",
              "    </tr>\n",
              "    <tr>\n",
              "      <th>2011-01-04 08:00:00</th>\n",
              "      <td>0</td>\n",
              "    </tr>\n",
              "    <tr>\n",
              "      <th>2011-01-04 09:00:00</th>\n",
              "      <td>0</td>\n",
              "    </tr>\n",
              "    <tr>\n",
              "      <th>2011-01-04 10:00:00</th>\n",
              "      <td>6</td>\n",
              "    </tr>\n",
              "  </tbody>\n",
              "</table>\n",
              "</div>"
            ],
            "text/plain": [
              "                     customer_arr\n",
              "dt_index                         \n",
              "2011-01-04 06:00:00             0\n",
              "2011-01-04 07:00:00             0\n",
              "2011-01-04 08:00:00             0\n",
              "2011-01-04 09:00:00             0\n",
              "2011-01-04 10:00:00             6"
            ]
          },
          "metadata": {
            "tags": []
          },
          "execution_count": 154
        }
      ]
    },
    {
      "cell_type": "code",
      "metadata": {
        "colab": {
          "base_uri": "https://localhost:8080/"
        },
        "id": "Xig07tVEkDg0",
        "outputId": "232c39ae-2e24-40ed-a544-7cf9ec5f5d11"
      },
      "source": [
        "Q1.shape"
      ],
      "execution_count": 155,
      "outputs": [
        {
          "output_type": "execute_result",
          "data": {
            "text/plain": [
              "(1078, 1)"
            ]
          },
          "metadata": {
            "tags": []
          },
          "execution_count": 155
        }
      ]
    },
    {
      "cell_type": "code",
      "metadata": {
        "id": "_KSCBLNPcYUo"
      },
      "source": [
        "import matplotlib.pyplot as plt\n",
        "from statsmodels.graphics.tsaplots import plot_pacf\n",
        "%matplotlib inline"
      ],
      "execution_count": 156,
      "outputs": []
    },
    {
      "cell_type": "code",
      "metadata": {
        "colab": {
          "base_uri": "https://localhost:8080/",
          "height": 607
        },
        "id": "Hz5-w-_5dzbh",
        "outputId": "5e95a651-ac43-47fd-976e-b5278833eb70"
      },
      "source": [
        "plt.rc(\"figure\", figsize=(25,10))\n",
        "plot_pacf(Q1,lags=300,title='PACF for Quarter 1, max lags- 300');"
      ],
      "execution_count": 157,
      "outputs": [
        {
          "output_type": "display_data",
          "data": {
            "image/png": "[encoded data removed]",
            "text/plain": [
              "<Figure size 1800x720 with 1 Axes>"
            ]
          },
          "metadata": {
            "tags": [],
            "needs_background": "light"
          }
        }
      ]
    },
    {
      "cell_type": "code",
      "metadata": {
        "colab": {
          "base_uri": "https://localhost:8080/",
          "height": 607
        },
        "id": "58vVuMsDkBAk",
        "outputId": "aa662c3f-5aef-4afa-def2-f6618c5bf025"
      },
      "source": [
        "plot_pacf(Q1,lags=100,title='PACF for Quarter 1, max lags- 100');"
      ],
      "execution_count": 158,
      "outputs": [
        {
          "output_type": "display_data",
          "data": {
            "image/png": "[encoded data removed]",
            "text/plain": [
              "<Figure size 1800x720 with 1 Axes>"
            ]
          },
          "metadata": {
            "tags": [],
            "needs_background": "light"
          }
        }
      ]
    },
    {
      "cell_type": "code",
      "metadata": {
        "id": "shdwV8vNnCIa"
      },
      "source": [
        "from statsmodels.tsa.stattools import pacf"
      ],
      "execution_count": 159,
      "outputs": []
    },
    {
      "cell_type": "code",
      "metadata": {
        "id": "Ra4RwNhIonkc"
      },
      "source": [
        "#Finding significant lags where correlation >0.1 or <-0.1\n",
        "def sig_lags(Q):\n",
        "  pacf_Q=pacf(Q,nlags=100)\n",
        "  index=[]\n",
        "  for i in range(1,len(pacf_Q)):\n",
        "    if (pacf_Q[i]>0.1) or (pacf_Q[i]<-0.1):\n",
        "      index.append(i)\n",
        "  return index"
      ],
      "execution_count": 160,
      "outputs": []
    },
    {
      "cell_type": "code",
      "metadata": {
        "colab": {
          "base_uri": "https://localhost:8080/"
        },
        "id": "45L9FS9Qseqq",
        "outputId": "6650b16d-2cb3-41c5-fbe6-d406e6da1172"
      },
      "source": [
        "sig_lags(Q1)"
      ],
      "execution_count": 161,
      "outputs": [
        {
          "output_type": "execute_result",
          "data": {
            "text/plain": [
              "[1, 2, 3, 4, 5, 6, 7, 9, 10, 11, 12, 13, 14, 18, 70, 84]"
            ]
          },
          "metadata": {
            "tags": []
          },
          "execution_count": 161
        }
      ]
    },
    {
      "cell_type": "code",
      "metadata": {
        "colab": {
          "base_uri": "https://localhost:8080/",
          "height": 607
        },
        "id": "-O55-kRmrrk1",
        "outputId": "858819c2-7375-465c-85da-951fcbf068c4"
      },
      "source": [
        "plot_pacf(Q2,lags=100,title='PACF for Quarter 2, max lags- 100');"
      ],
      "execution_count": 162,
      "outputs": [
        {
          "output_type": "display_data",
          "data": {
            "image/png": "[encoded data removed]",
            "text/plain": [
              "<Figure size 1800x720 with 1 Axes>"
            ]
          },
          "metadata": {
            "tags": [],
            "needs_background": "light"
          }
        }
      ]
    },
    {
      "cell_type": "code",
      "metadata": {
        "colab": {
          "base_uri": "https://localhost:8080/"
        },
        "id": "0NwEIfxPvL4H",
        "outputId": "ab1da044-d7d1-41d2-e982-c56f452df553"
      },
      "source": [
        "sig_lags(Q2)"
      ],
      "execution_count": 163,
      "outputs": [
        {
          "output_type": "execute_result",
          "data": {
            "text/plain": [
              "[1, 3, 4, 5, 6, 7, 10, 11, 12, 13, 14, 15, 20, 26, 42, 83, 84]"
            ]
          },
          "metadata": {
            "tags": []
          },
          "execution_count": 163
        }
      ]
    },
    {
      "cell_type": "code",
      "metadata": {
        "colab": {
          "base_uri": "https://localhost:8080/",
          "height": 607
        },
        "id": "Z8tkaieLu4uH",
        "outputId": "8c2156da-2632-4607-8a14-0e56b71df8c0"
      },
      "source": [
        "plot_pacf(Q3,lags=100,title='PACF for Quarter 3, max lags- 100');"
      ],
      "execution_count": 164,
      "outputs": [
        {
          "output_type": "display_data",
          "data": {
            "image/png": "[encoded data removed]",
            "text/plain": [
              "<Figure size 1800x720 with 1 Axes>"
            ]
          },
          "metadata": {
            "tags": [],
            "needs_background": "light"
          }
        }
      ]
    },
    {
      "cell_type": "code",
      "metadata": {
        "colab": {
          "base_uri": "https://localhost:8080/"
        },
        "id": "n2Qn3d9GvaDi",
        "outputId": "2751a78f-6e1d-4236-8ab2-693acb04cbc6"
      },
      "source": [
        "sig_lags(Q3)"
      ],
      "execution_count": 165,
      "outputs": [
        {
          "output_type": "execute_result",
          "data": {
            "text/plain": [
              "[1, 3, 4, 5, 6, 7, 11, 12, 13, 14, 18, 20, 28, 70, 84, 94]"
            ]
          },
          "metadata": {
            "tags": []
          },
          "execution_count": 165
        }
      ]
    },
    {
      "cell_type": "code",
      "metadata": {
        "colab": {
          "base_uri": "https://localhost:8080/",
          "height": 607
        },
        "id": "F6cB5MU9vDCm",
        "outputId": "06a4beb8-7f56-4883-cf62-6d74682e1065"
      },
      "source": [
        "plot_pacf(Q4,lags=100,title='PACF for Quarter 4, max lags- 100');"
      ],
      "execution_count": 166,
      "outputs": [
        {
          "output_type": "display_data",
          "data": {
            "image/png": "[encoded data removed]",
            "text/plain": [
              "<Figure size 1800x720 with 1 Axes>"
            ]
          },
          "metadata": {
            "tags": [],
            "needs_background": "light"
          }
        }
      ]
    },
    {
      "cell_type": "code",
      "metadata": {
        "id": "RckG_EhKvdVO",
        "colab": {
          "base_uri": "https://localhost:8080/"
        },
        "outputId": "b4fd443b-b279-4dc1-886e-11cd2a2885b2"
      },
      "source": [
        "sig_lags(Q4)"
      ],
      "execution_count": 167,
      "outputs": [
        {
          "output_type": "execute_result",
          "data": {
            "text/plain": [
              "[1, 3, 4, 5, 6, 9, 10, 11, 12, 13, 14, 18, 19, 25, 42, 83]"
            ]
          },
          "metadata": {
            "tags": []
          },
          "execution_count": 167
        }
      ]
    }
  ]
}