{
  "nbformat": 4,
  "nbformat_minor": 0,
  "metadata": {
    "colab": {
      "name": "create_timeData_csv.ipynb",
      "provenance": [],
      "collapsed_sections": [],
      "mount_file_id": "1Ufi-kdrNjBZNxYZ_-NUDWM63_CsdttU-",
      "authorship_tag": "ABX9TyNsC+KsjcNXDZIPqDa6Jo1Q",
      "include_colab_link": true
    },
    "kernelspec": {
      "name": "python3",
      "display_name": "Python 3"
    },
    "language_info": {
      "name": "python"
    }
  },
  "cells": [
    {
      "cell_type": "markdown",
      "metadata": {
        "id": "view-in-github",
        "colab_type": "text"
      },
      "source": [
        "<a href=\"https://colab.research.google.com/github/rajivsam/cmi_count_data_modeling/blob/asif_ikbal_21_07_2021/create_timeData_csv.ipynb\" target=\"_parent\"><img src=\"https://colab.research.google.com/assets/colab-badge.svg\" alt=\"Open In Colab\"/></a>"
      ]
    },
    {
      "cell_type": "code",
      "metadata": {
        "id": "SR4tQwytQKfl"
      },
      "source": [
        "import pandas as pd\n",
        "#import numpy as np"
      ],
      "execution_count": 1,
      "outputs": []
    },
    {
      "cell_type": "code",
      "metadata": {
        "id": "-jFd-_fiPmHM"
      },
      "source": [
        "path='https://archive.ics.uci.edu/ml/machine-learning-databases/00352/Online%20Retail.xlsx'\n",
        "data=pd.read_excel(path)"
      ],
      "execution_count": 2,
      "outputs": []
    },
    {
      "cell_type": "code",
      "metadata": {
        "id": "N-Uo6T_hSG2b"
      },
      "source": [
        "data['Date']=[d.date() for d in data['InvoiceDate']]\n",
        "data['Hour']=[d.hour for d in data['InvoiceDate']]"
      ],
      "execution_count": 3,
      "outputs": []
    },
    {
      "cell_type": "code",
      "metadata": {
        "id": "BjXSEY7EbrD2"
      },
      "source": [
        "dateTime=data[['Date','Hour']]"
      ],
      "execution_count": 4,
      "outputs": []
    },
    {
      "cell_type": "code",
      "metadata": {
        "id": "GofkH2U_Ruzo"
      },
      "source": [
        "table=dateTime.groupby(['Date','Hour']).size()"
      ],
      "execution_count": 5,
      "outputs": []
    },
    {
      "cell_type": "code",
      "metadata": {
        "id": "0WtdLlZ-Tbpb"
      },
      "source": [
        "tab2=pd.DataFrame(table.reset_index())"
      ],
      "execution_count": 6,
      "outputs": []
    },
    {
      "cell_type": "code",
      "metadata": {
        "id": "0y-EM6YjVwON"
      },
      "source": [
        "colNames=['Date']\n",
        "colNames.extend(['Count'+str(k+1) for k in range(24)])\n",
        "newDf=pd.DataFrame(columns=colNames)\n",
        "for date in set(tab2['Date']):\n",
        "  tab3=tab2[tab2['Date']==date][['Hour',0]]\n",
        "  newRow=[date]\n",
        "  newRow.extend([0 for k in range(24)])\n",
        "  for hr in tab3['Hour']:\n",
        "    newRow[int(hr)+1]=int(tab3[tab3['Hour']==hr][0])\n",
        "  #print(pd.DataFrame([newRow],columns=colNames))\n",
        "  newDf=newDf.append(pd.DataFrame([newRow],columns=colNames),ignore_index=True)\n",
        "\n"
      ],
      "execution_count": 7,
      "outputs": []
    },
    {
      "cell_type": "code",
      "metadata": {
        "id": "cRfHyhCOnMLP"
      },
      "source": [
        "newDf=newDf.sort_values(by=['Date']).reset_index()\n",
        "newDf=newDf.drop('index',axis=1)"
      ],
      "execution_count": 10,
      "outputs": []
    },
    {
      "cell_type": "code",
      "metadata": {
        "id": "CARzekNBVoFL"
      },
      "source": [
        "newDf.to_csv('transaction_per_hour.csv')"
      ],
      "execution_count": 12,
      "outputs": []
    }
  ]
}
